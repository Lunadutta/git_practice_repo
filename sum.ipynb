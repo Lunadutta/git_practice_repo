{
 "cells": [
  {
   "cell_type": "code",
   "execution_count": 6,
   "id": "c4a7438c",
   "metadata": {},
   "outputs": [
    {
     "name": "stdout",
     "output_type": "stream",
     "text": [
      "30\n",
      "hello word\n"
     ]
    }
   ],
   "source": [
    "a =int (10)\n",
    "b =int(20)\n",
    "print( a + b)\n",
    "print(\"hello word\")\n",
    "print(\"byee\")\n",
    "print(\"now adding a new line \")"
   ]
  },
  {
   "cell_type": "code",
   "execution_count": null,
   "id": "54ec6a8d",
   "metadata": {},
   "outputs": [],
   "source": []
  },
  {
   "cell_type": "code",
   "execution_count": null,
   "id": "6db2ce3f",
   "metadata": {},
   "outputs": [],
   "source": []
  }
 ],
 "metadata": {
  "kernelspec": {
   "display_name": "Python 3 (ipykernel)",
   "language": "python",
   "name": "python3"
  },
  "language_info": {
   "codemirror_mode": {
    "name": "ipython",
    "version": 3
   },
   "file_extension": ".py",
   "mimetype": "text/x-python",
   "name": "python",
   "nbconvert_exporter": "python",
   "pygments_lexer": "ipython3",
   "version": "3.10.9"
  }
 },
 "nbformat": 4,
 "nbformat_minor": 5
}
